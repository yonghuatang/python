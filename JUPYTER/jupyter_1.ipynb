{
 "cells": [
  {
   "cell_type": "markdown",
   "id": "instant-julian",
   "metadata": {},
   "source": [
    "# This is my heading"
   ]
  },
  {
   "cell_type": "code",
   "execution_count": 2,
   "id": "formed-malawi",
   "metadata": {},
   "outputs": [
    {
     "data": {
      "text/plain": [
       "'lorem ipsum'"
      ]
     },
     "execution_count": 2,
     "metadata": {},
     "output_type": "execute_result"
    }
   ],
   "source": [
    "class Student:\n",
    "    pass\n",
    "\"\"\"Your code here\"\"\"\n",
    "\"lorem ipsum\""
   ]
  },
  {
   "cell_type": "markdown",
   "id": "basic-healthcare",
   "metadata": {},
   "source": [
    "$f:\\mathbb{R}\\rightarrow\\mathbb{R}:x \\mapsto x^2 + 5$\n",
    "$$e^{i\\theta} = \\cos{\\theta} + i\\sin{\\theta} \\hspace{3cm}(1)$$"
   ]
  },
  {
   "cell_type": "markdown",
   "id": "returning-pleasure",
   "metadata": {},
   "source": [
    "**loveisbold**"
   ]
  },
  {
   "cell_type": "markdown",
   "id": "meaningful-spelling",
   "metadata": {},
   "source": [
    "*nice italic*"
   ]
  },
  {
   "cell_type": "markdown",
   "id": "headed-translation",
   "metadata": {},
   "source": [
    "***bold and italic***"
   ]
  },
  {
   "cell_type": "markdown",
   "id": "textile-lease",
   "metadata": {},
   "source": [
    "> This a block quote."
   ]
  },
  {
   "cell_type": "markdown",
   "id": "fitted-investment",
   "metadata": {},
   "source": [
    "> Another block quote.  \n",
    "> but with multiple lines :)  \n",
    "> (line break by leaving two whitespaces at the end of line!)"
   ]
  },
  {
   "cell_type": "markdown",
   "id": "departmental-gamma",
   "metadata": {},
   "source": [
    "1. First item\n",
    "2. Second item\n",
    "3. Third item\n",
    "4. Fourth item"
   ]
  },
  {
   "cell_type": "markdown",
   "id": "juvenile-vehicle",
   "metadata": {},
   "source": [
    "- First item\n",
    "- Second item\n",
    "- Third item\n",
    "    - Indented item\n",
    "    - Indented item\n",
    "- Fourth item"
   ]
  },
  {
   "cell_type": "markdown",
   "id": "isolated-transition",
   "metadata": {},
   "source": [
    "`sneaky code snippets here`"
   ]
  },
  {
   "cell_type": "code",
   "execution_count": 9,
   "id": "competent-ukraine",
   "metadata": {},
   "outputs": [
    {
     "name": "stdout",
     "output_type": "stream",
     "text": [
      "False\n"
     ]
    }
   ],
   "source": [
    "s = True\n",
    "if s:\n",
    "    s = False\n",
    "else:\n",
    "    s = True\n",
    "print(s)"
   ]
  },
  {
   "cell_type": "markdown",
   "id": "pressing-northern",
   "metadata": {},
   "source": [
    "-------------------------"
   ]
  },
  {
   "cell_type": "markdown",
   "id": "subjective-retention",
   "metadata": {},
   "source": [
    "My favorite search engine is [google](https://www.google.com)."
   ]
  },
  {
   "cell_type": "markdown",
   "id": "characteristic-loading",
   "metadata": {},
   "source": [
    "<https://www.google.com>"
   ]
  },
  {
   "cell_type": "markdown",
   "id": "trying-contract",
   "metadata": {},
   "source": [
    "--------------"
   ]
  }
 ],
 "metadata": {
  "kernelspec": {
   "display_name": "Python 3",
   "language": "python",
   "name": "python3"
  },
  "language_info": {
   "codemirror_mode": {
    "name": "ipython",
    "version": 3
   },
   "file_extension": ".py",
   "mimetype": "text/x-python",
   "name": "python",
   "nbconvert_exporter": "python",
   "pygments_lexer": "ipython3",
   "version": "3.8.0"
  }
 },
 "nbformat": 4,
 "nbformat_minor": 5
}
