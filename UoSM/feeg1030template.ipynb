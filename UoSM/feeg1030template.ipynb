# FEEG1001 Summative Design Assessment
# `optfoil.ipynb`
Name: TANG YONG HUA   |   Student Number: 32120494   |   Email: yht1e20@soton.ac.uk   |   University of Southampton Malaysia (UoSM)
---

Date commenced: 12 March 2021 16:24 (GMT+8)
Date completed: xx yy 2021 zz:Zz (GMT+8)
Time elapsed: x days y hours z minutes

Declaration
---

I, __TANG YONG HUA__ hereby declare that this augmentation and completion of Python code via jupyter notebook is solely my own work, and thus it is free of forgery and plagiarism. I observe and strictly adhere to the nature of academic integrity as prior stipulated. I have not conferred with anyone, by any means, on matter pertaining to this summative design assessment. I respect all the intellectual properties and that any materials referenced for this entire project have been duly acknowledged. Every effort have been made to trace the copyright holders and I sincerely apologise in advance for any unintentional omissions.

---

Having concern about the compatibility issues that may arise, I have affixed several crucial version parameters as below:
- Operating System: Microsoft Windows 10 Home Single Language (x64)
- Python: 3.8.0
- jupyter notebook: 6.2.0
- numpy: 1.19.2
- scipy: 1.5.2
- matplotlib: 3.3.2
- pandas: 1.2.1

---